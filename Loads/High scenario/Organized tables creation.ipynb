{
 "cells": [
  {
   "cell_type": "code",
   "execution_count": 1,
   "metadata": {
    "collapsed": true
   },
   "outputs": [],
   "source": [
    "import numpy as np\n",
    "import pandas as pd"
   ]
  },
  {
   "cell_type": "code",
   "execution_count": 2,
   "metadata": {
    "collapsed": false
   },
   "outputs": [
    {
     "name": "stderr",
     "output_type": "stream",
     "text": [
      "C:\\Users\\Aldo\\Anaconda2\\lib\\site-packages\\ipykernel\\__main__.py:5: ParserWarning: Falling back to the 'python' engine because the 'c' engine does not support skip_footer; you can avoid this warning by specifying engine='python'.\n"
     ]
    }
   ],
   "source": [
    "df = pd.read_csv(\"RawTables/2016.csv\",index_col=range(4),skiprows=range(4),header=0)\n",
    "y=['CEL', 'ORI', 'OCC', 'NOR', 'NTE', 'NES', 'PEN', 'BCN', 'Unnamed: 12', 'BCS', 'MUG', 'SIN', 'SIN8', 'SIN9', 'SEN', 'Unnamed: 19', 'Unnamed: 20', 'Unnamed: 27', 'Unnamed: 33', 'Unnamed: 43','Central', 'Unnamed: 54',   'Unnamed: 64', 'Unnamed: 70',  'Unnamed: 75']\n",
    "\n",
    "for i in range(2017,2031):\n",
    "    a=pd.read_csv(\"RawTables/{0}.csv\".format(i),index_col=range(4),skiprows=range(4),header=0,skipfooter=24)\n",
    "    a=a.drop(y,axis=1)\n",
    "    a.columns=df.columns.tolist()\n",
    "    df=df.append(a)\n",
    "centraldata=pd.read_csv(\"RawTables/Central.csv\",header=0,index_col=range(4))\n",
    "df['31-central']=centraldata\n",
    "del centraldata\n",
    "col1=[]\n",
    "col2=[]\n",
    "for i in df.columns.tolist():\n",
    "    col1.append(int(i[0:2]))\n",
    "for i in range(1,55):\n",
    "    try: col2.append(df.columns.tolist()[col1.index(i)])\n",
    "    except ValueError: pass\n",
    "df=df[col2]\n",
    "df=df.astype('float64')"
   ]
  },
  {
   "cell_type": "code",
   "execution_count": 3,
   "metadata": {
    "collapsed": false
   },
   "outputs": [],
   "source": [
    "#adjustment for the loreto/mulege problem. Read documentation for further info\n",
    "for a in range(2016,2031):\n",
    "    for m in range(1,13):\n",
    "        for d in df.xs([a,m,1],level=[0,1,3]).index.tolist():\n",
    "            for h in range(1,25):\n",
    "                su=df.xs([a,m,d,h])[['54-loreto','50-villa_constitucion','51-la_paz','52-los_cabos']].sum()\n",
    "                lo = df.xs([a,m,d,h])['54-loreto']\n",
    "                df.xs([a,m,d,h])['50-villa_constitucion']*=su/(su-lo)\n",
    "                df.xs([a,m,d,h])['51-la_paz']*=su/(su-lo)\n",
    "                df.xs([a,m,d,h])['52-los_cabos']*=su/(su-lo)\n",
    "df=df.drop('54-loreto',axis=1)"
   ]
  },
  {
   "cell_type": "code",
   "execution_count": 4,
   "metadata": {
    "collapsed": false,
    "scrolled": true
   },
   "outputs": [],
   "source": [
    "#asigment of 2% from the monterrey node to the tamazunchale node\n",
    "tama=pd.DataFrame(index=df.index,columns=['20-tamazunchale'])\n",
    "for a in range(2016,2031):\n",
    "    for m in range(1,13):\n",
    "        for d in df.xs([a,m,1],level=[0,1,3]).index.tolist():\n",
    "            for h in range(1,25):\n",
    "                tama.xs([a,m,d,h])['20-tamazunchale']=df.xs([a,m,d,h])['16-monterrey']*.04\n",
    "                df.xs([a,m,d,h])['16-monterrey']*=.96\n",
    "df.insert(19,'20-tamazunchale',tama['20-tamazunchale'])"
   ]
  },
  {
   "cell_type": "code",
   "execution_count": 5,
   "metadata": {
    "collapsed": false
   },
   "outputs": [],
   "source": [
    "for i in range(2016,2031):\n",
    "    df.xs([i]).to_csv(\"OrganizedTables/{0}.csv\".format(i))"
   ]
  },
  {
   "cell_type": "code",
   "execution_count": null,
   "metadata": {
    "collapsed": false
   },
   "outputs": [],
   "source": []
  },
  {
   "cell_type": "code",
   "execution_count": null,
   "metadata": {
    "collapsed": true
   },
   "outputs": [],
   "source": []
  }
 ],
 "metadata": {
  "anaconda-cloud": {},
  "hide_input": false,
  "kernelspec": {
   "display_name": "Python [conda root]",
   "language": "python",
   "name": "conda-root-py"
  },
  "language_info": {
   "codemirror_mode": {
    "name": "ipython",
    "version": 2
   },
   "file_extension": ".py",
   "mimetype": "text/x-python",
   "name": "python",
   "nbconvert_exporter": "python",
   "pygments_lexer": "ipython2",
   "version": "2.7.12"
  }
 },
 "nbformat": 4,
 "nbformat_minor": 0
}
