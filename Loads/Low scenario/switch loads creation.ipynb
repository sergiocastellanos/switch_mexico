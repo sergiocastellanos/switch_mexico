{
 "cells": [
  {
   "cell_type": "code",
   "execution_count": 1,
   "metadata": {
    "collapsed": true
   },
   "outputs": [],
   "source": [
    "#script regarding the creation of the \"loads.tab\" and \"lz_peak_loads\"\n",
    "import pandas as pd\n",
    "import numpy as np\n",
    "df=pd.read_csv(\"OrganizedTables/HourlyLoadPerNode.csv\",index_col=range(4),header=0)"
   ]
  },
  {
   "cell_type": "code",
   "execution_count": 2,
   "metadata": {
    "collapsed": false
   },
   "outputs": [],
   "source": [
    "#creation of an axuliary dataframe for the \"loads.tab\" file with needed columns\n",
    "a=pd.DataFrame(index=df.index,columns=['load_area','timepoint','lz_demand_tz'])"
   ]
  },
  {
   "cell_type": "code",
   "execution_count": 3,
   "metadata": {
    "collapsed": false
   },
   "outputs": [],
   "source": [
    "#creation of timestamps for the new table\n",
    "for y in range(2016,2031):\n",
    "        for m in range(1,13):\n",
    "            for d in a.xs([y,m,1],level=[0,1,3]).index.tolist():\n",
    "                for h in range(1,25):\n",
    "                    a.xs([y,m,d,h])['timepoint']=str(y)+str(m).zfill(2)+str(d).zfill(2)+str(h-1).zfill(2)\n",
    "time=a['timepoint'].tolist()  \n",
    "del a"
   ]
  },
  {
   "cell_type": "code",
   "execution_count": 4,
   "metadata": {
    "collapsed": false,
    "scrolled": true
   },
   "outputs": [],
   "source": [
    "'''creation of an empty data frame that will receive, by concatenation, \n",
    " a dataframe created for each load zone'''\n",
    "final=pd.DataFrame()\n",
    "for k in df.columns.tolist():\n",
    "    b=pd.DataFrame(index=df.index,columns=['load_area','timepoint','lz_demand_mw'])\n",
    "    #filling load area column with the load area name\n",
    "    b['load_area']=k\n",
    "    #pasting the complete load from that load area to the lz_demand_mw column\n",
    "    b['lz_demand_mw']=df[k]\n",
    "    b.set_index('load_area',append=False,inplace=True)\n",
    "    #paste timestamps in the \"timepoint\" column\n",
    "    b['timepoint']=time\n",
    "    final=final.append(b)"
   ]
  },
  {
   "cell_type": "code",
   "execution_count": 5,
   "metadata": {
    "collapsed": false
   },
   "outputs": [],
   "source": [
    "#Import of the tables to another place\n",
    "final.to_csv(\"OrganizedTables/loads_low.csv\")\n",
    "final.to_csv(\"../../../Main Tabs/csv/loads_low.csv\")\n",
    "final.to_csv(\"../../../Main Tabs/loads_low.tab\",sep='\\t')"
   ]
  },
  {
   "cell_type": "code",
   "execution_count": 6,
   "metadata": {
    "collapsed": false
   },
   "outputs": [],
   "source": [
    "#creation of data frame for the \"lz_peak_loads file\"\n",
    "c=pd.DataFrame()\n",
    "for k in df.columns.tolist():\n",
    "    #creation of temporary dataframe for every load zone\n",
    "    d=pd.DataFrame(index=range(3),columns=['load_zone','period','peak_demand_mw'])\n",
    "    #filling the load zone column with load zone name\n",
    "    d['load_zone']=k\n",
    "    #iterating over the periods\n",
    "    for i in range(3):\n",
    "        #selecting the period day\n",
    "        d.loc[i,'period']=2016+(i*5)\n",
    "        #assigning the maximum demand for that period of 5 years to the \"peak demand mw\"column\n",
    "        d.loc[i,'peak_demand_mw']=df.loc[[2016+(i*5),2020+i*5],:][k].max()\n",
    "    #reset the index to the load_zone\n",
    "    d.set_index('load_zone',append=False,inplace=True)\n",
    "    c=c.append(d)  "
   ]
  },
  {
   "cell_type": "code",
   "execution_count": 7,
   "metadata": {
    "collapsed": true
   },
   "outputs": [],
   "source": [
    "#import\n",
    "c.to_csv(\"OrganizedTables/lz_peak_loads_low.csv\")\n",
    "c.to_csv(\"../../../Main Tabs/csv/lz_peak_loads_low.csv\")\n",
    "c.to_csv(\"../../../Main Tabs/lz_peak_loads_low.tab\",sep='\\t')"
   ]
  },
  {
   "cell_type": "code",
   "execution_count": null,
   "metadata": {
    "collapsed": false
   },
   "outputs": [],
   "source": []
  },
  {
   "cell_type": "code",
   "execution_count": null,
   "metadata": {
    "collapsed": false
   },
   "outputs": [],
   "source": []
  },
  {
   "cell_type": "code",
   "execution_count": null,
   "metadata": {
    "collapsed": true
   },
   "outputs": [],
   "source": []
  }
 ],
 "metadata": {
  "anaconda-cloud": {},
  "hide_input": false,
  "kernelspec": {
   "display_name": "Python [Root]",
   "language": "python",
   "name": "Python [Root]"
  },
  "language_info": {
   "codemirror_mode": {
    "name": "ipython",
    "version": 2
   },
   "file_extension": ".py",
   "mimetype": "text/x-python",
   "name": "python",
   "nbconvert_exporter": "python",
   "pygments_lexer": "ipython2",
   "version": "2.7.12"
  }
 },
 "nbformat": 4,
 "nbformat_minor": 0
}
