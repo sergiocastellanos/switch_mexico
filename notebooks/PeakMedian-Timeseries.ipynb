{
 "cells": [
  {
   "cell_type": "markdown",
   "metadata": {},
   "source": [
    "## Main packages"
   ]
  },
  {
   "cell_type": "code",
   "execution_count": null,
   "metadata": {},
   "outputs": [],
   "source": [
    "import pandas as pd\n",
    "import numpy as np"
   ]
  },
  {
   "cell_type": "markdown",
   "metadata": {},
   "source": [
    "## Data"
   ]
  },
  {
   "cell_type": "code",
   "execution_count": null,
   "metadata": {},
   "outputs": [],
   "source": [
    "loads = pd.read_csv('../data/clean/loads/HighLoads.csv')\n",
    "loads.head()"
   ]
  },
  {
   "cell_type": "markdown",
   "metadata": {},
   "source": [
    "## Data preparation"
   ]
  },
  {
   "cell_type": "code",
   "execution_count": null,
   "metadata": {},
   "outputs": [],
   "source": [
    "# Calculate the sum of all loads\n",
    "loads['total'] = loads.sum(axis=1)\n",
    "\n",
    "# Create datetimeindex for easy query\n",
    "loads.index = pd.to_datetime(loads[['year', 'month', 'day', 'hour']])\n",
    "\n",
    "\n",
    "# Transform 24 hours to 0 to be in accordance with CENACE\n",
    "loads.loc[loads['hour'] == 24, 'hour'] = 0\n",
    "\n",
    "# Move changed hours to next day\n",
    "loads.loc[loads['hour'] == 0].index += pd.DateOffset(day=1)\n",
    "\n",
    "# Get the last year of the load timeseries\n",
    "last_year = loads.index.year[-1]\n",
    "\n",
    "loads.loc[loads['year'] > last_year].index = loads.loc[loads['year'] > last_year].index.year - 1\n",
    "loads = loads.sort_index()"
   ]
  },
  {
   "cell_type": "markdown",
   "metadata": {},
   "source": [
    "## Representative days"
   ]
  },
  {
   "cell_type": "code",
   "execution_count": null,
   "metadata": {},
   "outputs": [],
   "source": [
    "def get_representative_day(data, dates, number=4):\n",
    "    \"\"\" Construc a representative day based on a single timestamp\n",
    "    \n",
    "    Args:\n",
    "    data\n",
    "    dates\n",
    "    number\n",
    "    Todo: Write readme\n",
    "    \"\"\"\n",
    "    years = []\n",
    "    if isinstance(dates, pd.Series):\n",
    "        for day in dates:\n",
    "            i_date = day - pd.DateOffset(hours=12)\n",
    "            f_date = day + pd.DateOffset(hours=12)\n",
    "            mask = (data.index >= i_date) & (data.index <= f_date)\n",
    "            # reset_index to preserve timepoint reference\n",
    "            years.append(data.loc[mask].iloc[::number].reset_index())\n",
    "    else:\n",
    "        i_date = dates - pd.DateOffset(hours=12)\n",
    "        f_date = dates + pd.DateOffset(hours=12)\n",
    "        mask = (data.index >= i_date) & (data.index <= f_date)\n",
    "        years.append(data.loc[mask].iloc[::number].reset_index())\n",
    "    output_data = pd.concat(years)\n",
    "    output_data.rename(columns={'index':'date'}, inplace=True)\n",
    "    return output_data"
   ]
  },
  {
   "cell_type": "markdown",
   "metadata": {},
   "source": [
    "## Timepoints creation\n",
    "\n",
    "For the timepoints creation we are going to retrieve the maximum of each day and the median of the average of every month.\n",
    "\n",
    "### Peak days"
   ]
  },
  {
   "cell_type": "code",
   "execution_count": null,
   "metadata": {},
   "outputs": [],
   "source": [
    "timepoints = loads.groupby([pd.TimeGrouper('A'), \n",
    "                                 pd.TimeGrouper('M')])['total'].idxmax()\n",
    "timepoints.head()"
   ]
  },
  {
   "cell_type": "code",
   "execution_count": null,
   "metadata": {},
   "outputs": [],
   "source": [
    "def get_representative_day(data, number=4, freq='MS'):\n",
    "    \"\"\" Construc a representative day based on a single timestamp\n",
    "    # Month start is to avoid getting more timepoints in a even division\n",
    "    Args:\n",
    "    data\n",
    "    dates\n",
    "    number\n",
    "    Todo: Write readme\n",
    "    \"\"\"\n",
    "    years = []\n",
    "    if number & 1:\n",
    "        raise ValueError('Odd number of timepoints. Use even number')\n",
    "    for index, group in data.groupby([pd.TimeGrouper('A'), pd.TimeGrouper(freq=freq)]):\n",
    "        peak_timestamp = group.idxmax()\n",
    "        mask = peak_timestamp.strftime('%Y-%m-%d') \n",
    "        years.append(group.loc[mask].iloc[::int((24/4))].reset_index())    \n",
    "    output_data = pd.concat(years)\n",
    "    output_data.rename(columns={'index':'date', 'total':'peak_day'}, inplace=True)\n",
    "\n",
    "    return output_data\n",
    "peak_dates = get_representative_day(loads['total']['2016'], number=4);\n",
    "peak_dates;"
   ]
  },
  {
   "cell_type": "markdown",
   "metadata": {},
   "source": [
    "### Median days"
   ]
  },
  {
   "cell_type": "code",
   "execution_count": null,
   "metadata": {},
   "outputs": [],
   "source": [
    "def get_median_day(data, number=4, freq='MS'):\n",
    "    years = []\n",
    "    for index, group in loads[['total']].groupby([pd.TimeGrouper('A'), pd.TimeGrouper('MS')]):\n",
    "        grouper = group.groupby(pd.TimeGrouper('D')).mean()\n",
    "        if len(grouper) & 1:\n",
    "            # Odd number of days\n",
    "            index_median = grouper.loc[grouper['total']==grouper['total'].median()].index[0]\n",
    "        else:\n",
    "            # Even number of days\n",
    "            index_median = (np.abs(grouper['total']-grouper['total'].median())).argmin()\n",
    "        years.append(group.loc[index_median.strftime('%Y-%m-%d')].iloc[::int((24/number))].reset_index())\n",
    "    output_data = pd.concat(years)\n",
    "    output_data.rename(columns={'index':'date', 'total':'peak_day'}, inplace=True)\n",
    "\n",
    "    return output_data\n",
    "mean_days = get_median_day(loads)\n",
    "mean_days.head()"
   ]
  },
  {
   "cell_type": "markdown",
   "metadata": {},
   "source": [
    "## Debug"
   ]
  },
  {
   "cell_type": "code",
   "execution_count": null,
   "metadata": {},
   "outputs": [],
   "source": [
    "%matplotlib inline\n",
    "import matplotlib.pyplot as plt\n",
    "fig, ax = plt.subplots()\n",
    "loads['2016-01'].plot(y='total', ax=ax)"
   ]
  },
  {
   "cell_type": "code",
   "execution_count": null,
   "metadata": {},
   "outputs": [],
   "source": [
    "loads['2016-01']['total'].min()"
   ]
  },
  {
   "cell_type": "code",
   "execution_count": null,
   "metadata": {},
   "outputs": [],
   "source": []
  }
 ],
 "metadata": {
  "kernelspec": {
   "display_name": "Python 3",
   "language": "python",
   "name": "python3"
  },
  "language_info": {
   "codemirror_mode": {
    "name": "ipython",
    "version": 3
   },
   "file_extension": ".py",
   "mimetype": "text/x-python",
   "name": "python",
   "nbconvert_exporter": "python",
   "pygments_lexer": "ipython3",
   "version": "3.6.4"
  }
 },
 "nbformat": 4,
 "nbformat_minor": 2
}
