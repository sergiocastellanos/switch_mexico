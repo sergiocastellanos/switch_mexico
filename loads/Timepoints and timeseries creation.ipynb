{
 "cells": [
  {
   "cell_type": "code",
   "execution_count": 1,
   "metadata": {
    "collapsed": true
   },
   "outputs": [],
   "source": [
    "import pandas as pd\n",
    "import numpy as np\n",
    "import matplotlib.pyplot as plt\n",
    "def median(lis):\n",
    "    lis=np.sort(lis)\n",
    "    if len(lis)%2==0:\n",
    "        return lis[((len(lis))/2)-1]\n",
    "    else: return lis[(len(lis)-1)/2]\n",
    "def investment_period(y):\n",
    "    if y in range(2016,2021): return 2020\n",
    "    elif y in range(2021,2026): return 2025\n",
    "    else: return 2030\n",
    "df1=pd.read_csv(\"Medium scenario/OrganizedTables/HourlyLoadPerNode.csv\",index_col=range(4),dtype=np.float64)\n",
    "df1['total']=df1.sum(axis=1)"
   ]
  },
  {
   "cell_type": "code",
   "execution_count": 9,
   "metadata": {
    "collapsed": false,
    "scrolled": true
   },
   "outputs": [
    {
     "name": "stdout",
     "output_type": "stream",
     "text": [
      "2016\n",
      "2017\n",
      "2018\n",
      "2019\n",
      "2020\n",
      "2021\n",
      "2022\n",
      "2023\n",
      "2024\n",
      "2025\n",
      "2026\n",
      "2027\n",
      "2028\n",
      "2029\n",
      "2030\n"
     ]
    }
   ],
   "source": [
    "df5=pd.DataFrame()\n",
    "for y in range(2016,2031):\n",
    "    print y\n",
    "    for m in range(1,13):\n",
    "        #peak days timestamp creation\n",
    "        \n",
    "        date=df1.loc[(y,m),'total'].idxmax()\n",
    "        df3=pd.DataFrame()\n",
    "        if date[1]%2==0:\n",
    "            for h in range(1,24,2):\n",
    "                df3.loc[(h-1)/2,'timestamp']=\"{0}{1}{2}{3}\".format(y,str(m).zfill(2),str(int(date[0])).zfill(2),str(h).zfill(2))\n",
    "        else: \n",
    "            for h in range(0,24,2):\n",
    "                df3.loc[h/2,'timestamp']=\"{0}{1}{2}{3}\".format(y,str(m).zfill(2),str(int(date[0])).zfill(2),str(h).zfill(2))\n",
    "        df3['timeseries']=\"{0}{1}P\".format(y,str(m).zfill(2))\n",
    "        #median days timestamp creation\n",
    "        df4=pd.DataFrame()\n",
    "        l=[]\n",
    "        for d in df1.loc[(y,m),'total'].index.levels[1]:\n",
    "            l.append(df1.loc[(y,m,d),'total'].mean())\n",
    "        d=l.index(median(l))\n",
    "        for h in range(12):\n",
    "            df4.loc[h+12,'timestamp']=\"{0}{1}{2}{3}\".format(y,str(m).zfill(2),str(int(d)).zfill(2),str(h*2).zfill(2))\n",
    "        df4['timeseries']=\"{0}{1}M\".format(y,str(m).zfill(2))\n",
    "        df5=df5.append(df3)\n",
    "        df5=df5.append(df4)\n",
    "df5=df5.reset_index(drop=True)\n",
    "df5.index.name=\"timepoint_id\""
   ]
  },
  {
   "cell_type": "code",
   "execution_count": null,
   "metadata": {
    "collapsed": false
   },
   "outputs": [],
   "source": [
    "df5.to_csv(\"../Main Tabs/timepoints.tab\",sep=\"\\t\")\n",
    "df5.to_csv(\"../Main Tabs/csv/timepoints.csv\")"
   ]
  },
  {
   "cell_type": "code",
   "execution_count": 10,
   "metadata": {
    "collapsed": false,
    "scrolled": true
   },
   "outputs": [],
   "source": [
    "df6=pd.DataFrame(index=df5['timeseries'].unique())\n",
    "df6.index.name='TIMESERIES'\n",
    "for index,row in df6.iterrows():\n",
    "    df6.loc[index,'ts_period']=investment_period(int(index[:4]))\n",
    "    if index[-1]=='M': \n",
    "        #calculating scaling factor according to \"timescales.py\" the scaling factor represents the number\n",
    "        #of times that the timeseries is ocurring in a period. See the report for more details.\n",
    "        df6.loc[index,'ts_scale_to_period']= (df1.xs([int(index[:4]),int(index[4:6]),1],level=[0,1,3]).shape[0]-1)\n",
    "    else: df6.loc[index,'ts_scale_to_period']= 1\n",
    "df6['ts_duration_of_tp']=2\n",
    "df6['ts_num_tps']=12\n",
    "df6['ts_period']=df6['ts_period'].astype('int64')"
   ]
  },
  {
   "cell_type": "code",
   "execution_count": 11,
   "metadata": {
    "collapsed": true
   },
   "outputs": [],
   "source": [
    "#rearreging columns and exporting table\n",
    "df6=df6[[0,2,3,1]]\n",
    "df6.to_csv(\"../Main Tabs/timeseries.tab\",sep=\"\\t\")\n",
    "df6.to_csv(\"../Main Tabs/csv/timeseries.csv\")"
   ]
  },
  {
   "cell_type": "code",
   "execution_count": 13,
   "metadata": {
    "collapsed": false,
    "scrolled": false
   },
   "outputs": [
    {
     "name": "stdout",
     "output_type": "stream",
     "text": [
      "Year: 2027\n",
      "Month: 11\n"
     ]
    },
    {
     "data": {
      "image/png": "[encoded data removed]",
      "text/plain": [
       "<matplotlib.figure.Figure at 0xe908a20>"
      ]
     },
     "metadata": {},
     "output_type": "display_data"
    },
    {
     "name": "stdout",
     "output_type": "stream",
     "text": [
      "Integral difference between sampling and real values (porcentage): 3.08898005357\n",
      "The maximum difference porcentage difference between the load duration curve and the sampling was of 11.8435172347 at 10,2030\n"
     ]
    }
   ],
   "source": [
    "#graphical analysis of timepoint selection\n",
    "df2=df1['total']\n",
    "year=int(raw_input('Year: '))\n",
    "month=int(raw_input('Month: '))\n",
    "t=[]\n",
    "for y in range(2016,2031):\n",
    "    for m in range(1,13):\n",
    "        #read the peak and median day from the created timeseries\n",
    "        peakday=int(str(df5[df5['timeseries'].str[0:7]==\"{0}{1}P\".format(y,str(m).zfill(2))].iloc[0,0])[6:8])\n",
    "        medianday=int(str(df5[df5['timeseries'].str[0:7]==\"{0}{1}M\".format(y,str(m).zfill(2))].iloc[0,0])[6:8])\n",
    "        l=[]\n",
    "        l=l+[df2.loc[(y,m,peakday)].max()]*24\n",
    "        l=l+[df2.loc[(y,m,medianday)].mean()]*(int(df2.xs([y,m]).shape[0])-(24))\n",
    "        if year==y and month==m:\n",
    "            plt.plot(df2.loc[(y,m)].sort_values(ascending=False).tolist())\n",
    "            plt.plot(l)\n",
    "            plt.xlabel(\"hours\")\n",
    "            plt.ylabel(\"load (MW)\")\n",
    "            plt.title('timeseries load comparison at {0},{1}'.format(m,y))\n",
    "            plt.grid()\n",
    "            plt.show()\n",
    "            print \"Integral difference between sampling and real values (porcentage): {0}\".format(diff)\n",
    "        diff=abs(((df2.loc[(y,m)].sum()-sum(l))/df2.loc[(y,m)].sum())*100)\n",
    "        t.append(diff)\n",
    "        maxi=max(t)\n",
    "print \"The maximum difference porcentage difference between the load duration curve and the sampling was of {0} at {1},{2}\".format(maxi,t.index(maxi)%12,t.index(maxi)/12 + 2016)"
   ]
  },
  {
   "cell_type": "code",
   "execution_count": null,
   "metadata": {
    "collapsed": false
   },
   "outputs": [],
   "source": []
  },
  {
   "cell_type": "code",
   "execution_count": null,
   "metadata": {
    "collapsed": false
   },
   "outputs": [],
   "source": []
  },
  {
   "cell_type": "code",
   "execution_count": null,
   "metadata": {
    "collapsed": true
   },
   "outputs": [],
   "source": []
  }
 ],
 "metadata": {
  "anaconda-cloud": {},
  "hide_input": false,
  "kernelspec": {
   "display_name": "Python [conda root]",
   "language": "python",
   "name": "conda-root-py"
  },
  "language_info": {
   "codemirror_mode": {
    "name": "ipython",
    "version": 2
   },
   "file_extension": ".py",
   "mimetype": "text/x-python",
   "name": "python",
   "nbconvert_exporter": "python",
   "pygments_lexer": "ipython2",
   "version": "2.7.12"
  }
 },
 "nbformat": 4,
 "nbformat_minor": 1
}
