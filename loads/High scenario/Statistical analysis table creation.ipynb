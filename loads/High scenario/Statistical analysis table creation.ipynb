{
 "cells": [
  {
   "cell_type": "code",
   "execution_count": 1,
   "metadata": {
    "collapsed": false
   },
   "outputs": [],
   "source": [
    "import pandas as pd\n",
    "import random\n",
    "import numpy as np\n",
    "def nearest_value(array,value):\n",
    "    idx=(np.abs(array-value)).argmin()\n",
    "    return idx"
   ]
  },
  {
   "cell_type": "code",
   "execution_count": 2,
   "metadata": {
    "collapsed": false
   },
   "outputs": [],
   "source": [
    "df = pd.read_csv(\"OrganizedTables/2016.csv\",index_col=range(3),header=0)\n",
    "df['year']=2016\n",
    "df.set_index('year',append=True,inplace=True)\n",
    "df=df.reorder_levels(['year', 'month', 'day','hour'])\n",
    "for i in range(2017,2031):\n",
    "    a=pd.read_csv(\"OrganizedTables/{0}.csv\".format(i),index_col=range(3),header=0)\n",
    "    a.columns=df.columns.tolist()\n",
    "    a['year']=i\n",
    "    a.set_index('year',append=True,inplace=True)\n",
    "    a=a.reorder_levels(['year', 'month', 'day','hour'])\n",
    "    df=df.append(a)\n",
    "df=df.astype('float64')"
   ]
  },
  {
   "cell_type": "code",
   "execution_count": 3,
   "metadata": {
    "collapsed": false,
    "scrolled": false
   },
   "outputs": [],
   "source": [
    "columns =[df.columns.tolist(),['PeakDay','PeakValue','MonthlyAverage']]\n",
    "col = pd.MultiIndex.from_product(columns)\n",
    "dfp=pd.DataFrame(index=pd.MultiIndex.from_tuples(df.xs([1,1],level=[2,3]).index.tolist()),columns=col)\n",
    "dfp\n",
    "for k in df.columns.tolist():\n",
    "    for a in range(2016,2031):\n",
    "        for m in range (1,13):\n",
    "            dfp.xs([a,m])[k,'PeakDay']=df.xs([a,m])[k].idxmax()[0]\n",
    "            dfp.xs([a,m])[k,'PeakValue']=df.xs([a,m])[k].max()\n",
    "            dfp.xs([a,m])[k,'MonthlyAverage']=(df.xs([a,m])[k].sum()-dfp.xs([a,m])[k,'PeakValue'])/(len(df.xs([a,m])[k])-1)"
   ]
  },
  {
   "cell_type": "code",
   "execution_count": 5,
   "metadata": {
    "collapsed": false
   },
   "outputs": [],
   "source": [
    "df.to_csv(\"OrganizedTables/HourlyLoadPerNode.csv\")\n",
    "dfp.to_csv(\"OrganizedTables/LoadHighlightsPerNode.csv\")"
   ]
  },
  {
   "cell_type": "code",
   "execution_count": null,
   "metadata": {
    "collapsed": false,
    "scrolled": true
   },
   "outputs": [],
   "source": []
  },
  {
   "cell_type": "code",
   "execution_count": 15,
   "metadata": {
    "collapsed": false
   },
   "outputs": [],
   "source": []
  },
  {
   "cell_type": "code",
   "execution_count": null,
   "metadata": {
    "collapsed": false,
    "scrolled": true
   },
   "outputs": [],
   "source": []
  },
  {
   "cell_type": "code",
   "execution_count": 16,
   "metadata": {
    "collapsed": true
   },
   "outputs": [
    {
     "data": {
      "text/plain": [
       "610.42750739640371"
      ]
     },
     "execution_count": 16,
     "metadata": {},
     "output_type": "execute_result"
    }
   ],
   "source": []
  },
  {
   "cell_type": "code",
   "execution_count": 15,
   "metadata": {
    "collapsed": false
   },
   "outputs": [
    {
     "data": {
      "text/plain": [
       "611.4228370581304"
      ]
     },
     "execution_count": 15,
     "metadata": {},
     "output_type": "execute_result"
    }
   ],
   "source": []
  },
  {
   "cell_type": "code",
   "execution_count": null,
   "metadata": {
    "collapsed": true
   },
   "outputs": [],
   "source": []
  }
 ],
 "metadata": {
  "anaconda-cloud": {},
  "hide_input": false,
  "kernelspec": {
   "display_name": "Python [Root]",
   "language": "python",
   "name": "Python [Root]"
  },
  "language_info": {
   "codemirror_mode": {
    "name": "ipython",
    "version": 2
   },
   "file_extension": ".py",
   "mimetype": "text/x-python",
   "name": "python",
   "nbconvert_exporter": "python",
   "pygments_lexer": "ipython2",
   "version": "2.7.12"
  }
 },
 "nbformat": 4,
 "nbformat_minor": 0
}
