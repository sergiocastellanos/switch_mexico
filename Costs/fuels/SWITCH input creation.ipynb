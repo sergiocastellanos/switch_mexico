{
 "cells": [
  {
   "cell_type": "code",
   "execution_count": 1,
   "metadata": {
    "collapsed": false,
    "scrolled": true
   },
   "outputs": [],
   "source": [
    "import pandas as pd\n",
    "import numpy as np\n",
    "area=pd.read_csv(\"tables/BalancingAreas.csv\",index_col=0)\n",
    "names=pd.read_csv('tables/Fuels.csv',usecols=[3],header=0)\n",
    "names=names.dropna()\n",
    "fuel_types=[]\n",
    "for i in names['Name2'].tolist():\n",
    "    fuel_types.append(i[0:i.index(';')].lower())\n",
    "fuel_types=list(set(fuel_types))\n",
    "fdict={}\n",
    "for i in fuel_types:\n",
    "    fdict[i]=pd.read_excel(\"tables/FuelsAnalysis.xlsx\",sheetname=i,header=range(2),index_col=0)\n"
   ]
  },
  {
   "cell_type": "code",
   "execution_count": 2,
   "metadata": {
    "collapsed": false,
    "scrolled": true
   },
   "outputs": [],
   "source": [
    "names=names.dropna()\n",
    "fuel_types=[]\n",
    "for i in names['Name2'].tolist():\n",
    "    fuel_types.append(i[0:i.index(';')].lower())\n",
    "fuel_types=list(set(fuel_types))\n",
    "dfi=pd.DataFrame(index=pd.MultiIndex.from_product([area.index.tolist(),fuel_types,range(2016,2031)]),columns=['fuel_price'])\n",
    "dfi.index.names=['load_area',\"fuel\",'year']\n",
    "for k in area.index.tolist():\n",
    "    for f in fuel_types:\n",
    "        for a in range(2016,2031):\n",
    "            try: dfi.xs([k,f,a])['fuel_price']=fdict[f].loc[a,area.loc[k,'balancing_area']].mean()\n",
    "            except KeyError: dfi.xs([k,f,a])['fuel_price']=fdict[f].loc[a,:].mean()\n",
    "            \n",
    "        "
   ]
  },
  {
   "cell_type": "code",
   "execution_count": 3,
   "metadata": {
    "collapsed": false
   },
   "outputs": [],
   "source": [
    "dfi.to_csv(\"tables/FuelsCostBalancingAreasAverage.csv\")\n",
    "\n"
   ]
  },
  {
   "cell_type": "code",
   "execution_count": null,
   "metadata": {
    "collapsed": false,
    "scrolled": true
   },
   "outputs": [],
   "source": []
  },
  {
   "cell_type": "code",
   "execution_count": null,
   "metadata": {
    "collapsed": false
   },
   "outputs": [],
   "source": []
  },
  {
   "cell_type": "code",
   "execution_count": null,
   "metadata": {
    "collapsed": true
   },
   "outputs": [],
   "source": []
  }
 ],
 "metadata": {
  "anaconda-cloud": {},
  "hide_input": false,
  "kernelspec": {
   "display_name": "Python [conda root]",
   "language": "python",
   "name": "conda-root-py"
  },
  "language_info": {
   "codemirror_mode": {
    "name": "ipython",
    "version": 2
   },
   "file_extension": ".py",
   "mimetype": "text/x-python",
   "name": "python",
   "nbconvert_exporter": "python",
   "pygments_lexer": "ipython2",
   "version": "2.7.12"
  }
 },
 "nbformat": 4,
 "nbformat_minor": 0
}
