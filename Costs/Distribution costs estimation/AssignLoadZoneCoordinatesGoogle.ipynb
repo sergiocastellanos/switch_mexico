{
 "cells": [
  {
   "cell_type": "code",
   "execution_count": 1,
   "metadata": {
    "collapsed": false
   },
   "outputs": [],
   "source": [
    "import pandas as pd\n",
    "import numpy as np\n",
    "import geocoder\n",
    "df1=pd.read_csv('tables/BalancingAreas.csv',index_col=0,header=0)\n",
    "df1=df1.drop('00-autoabasto_local',axis=0)\n",
    "df2=pd.read_csv('tables/CountiesCoordinatesGoogle.csv',header=0)\n",
    "#setting the name format as we need it\n",
    "df2['County']=df2['County'].str.replace(\" \",\"_\")\n",
    "df2['County']=df2['County'].str.lower()\n",
    "df2['County']=df2['County'].str.replace(\"\\xfc\",\"u\")\n",
    "df2['County']=df2['County'].str.replace(\"\\xf1\",\"n\")\n",
    "#selecting the load area names with names that do not match any county and assigning them one\n",
    "xname={'03-obregon':\"cajeme\",\"04-los_mochis\":\"ahome\",\"11-laguna\": 'torreon',\"12-rio_escondido\":'piedras_negras',\"28-carapan\":\"charapan\",'31-central':'coyoacan','32-poza_rica':'poza_rica_de_hidalgo',\"35-acapulco\":'acapulco_de_juarez',\"36-temascal\":'oaxaca_de_juarez','39-grijalva':\"tuxtla_gutierrez\",'44-chetumal':'othon_p._blanco','50-villa_constitucion':\"comondu\"}\n",
    "#selecting th load area names with multiple matches and assigning them the right one\n",
    "yname={\"07-juarez\":234,\"08-moctezuma\":1925,\"15-matamoros\":1998,\"18-valles\":1824,\"19-huasteca\":2005,\"29-lazaro_cardenas\":832,\"43-cancun\":1807,\"51-la_paz\":18}"
   ]
  },
  {
   "cell_type": "code",
   "execution_count": 2,
   "metadata": {
    "collapsed": false
   },
   "outputs": [],
   "source": [
    "for index in df1.index.tolist():\n",
    "    if index in xname.keys():\n",
    "        df1.loc[index,'lat']=float(df2[df2['County']==xname[index]]['lat'])\n",
    "        df1.loc[index,'lon']=float(df2[df2['County']==xname[index]]['lon'])\n",
    "    elif index in yname.keys():\n",
    "        df1.loc[index,'lat']=float(df2.iloc[yname[index],2])\n",
    "        df1.loc[index,'lon']=float(df2.iloc[yname[index],3])\n",
    "    else: \n",
    "        df1.loc[index,'lat']=float(df2[df2['County']==index[3:]]['lat'])\n",
    "        df1.loc[index,'lon']=float(df2[df2['County']==index[3:]]['lon'])"
   ]
  },
  {
   "cell_type": "code",
   "execution_count": 6,
   "metadata": {
    "collapsed": false
   },
   "outputs": [],
   "source": [
    "df1.to_csv('tables/LoadZoneCoordinatesGoogle.csv')"
   ]
  },
  {
   "cell_type": "code",
   "execution_count": null,
   "metadata": {
    "collapsed": false
   },
   "outputs": [],
   "source": []
  },
  {
   "cell_type": "code",
   "execution_count": null,
   "metadata": {
    "collapsed": false
   },
   "outputs": [],
   "source": []
  },
  {
   "cell_type": "code",
   "execution_count": null,
   "metadata": {
    "collapsed": true
   },
   "outputs": [],
   "source": []
  },
  {
   "cell_type": "code",
   "execution_count": null,
   "metadata": {
    "collapsed": true
   },
   "outputs": [],
   "source": []
  }
 ],
 "metadata": {
  "anaconda-cloud": {},
  "hide_input": false,
  "kernelspec": {
   "display_name": "Python [conda root]",
   "language": "python",
   "name": "conda-root-py"
  },
  "language_info": {
   "codemirror_mode": {
    "name": "ipython",
    "version": 2
   },
   "file_extension": ".py",
   "mimetype": "text/x-python",
   "name": "python",
   "nbconvert_exporter": "python",
   "pygments_lexer": "ipython2",
   "version": "2.7.12"
  }
 },
 "nbformat": 4,
 "nbformat_minor": 1
}
