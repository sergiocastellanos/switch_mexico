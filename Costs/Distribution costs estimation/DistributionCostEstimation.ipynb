{
 "cells": [
  {
   "cell_type": "code",
   "execution_count": 1,
   "metadata": {
    "collapsed": false,
    "scrolled": true
   },
   "outputs": [],
   "source": [
    "#distribution cost estimation. For further detail, check the report on this directory\n",
    "import pandas as pd\n",
    "import numpy as np\n",
    "dfs=pd.read_csv(\"tables/CategorizedCounties.csv\")\n",
    "'''The calculations of each of the distribution cost estimates \n",
    "is made using a simplified version of the formulas contained in the report\n",
    "for improving performance and for asuring none of our variables becomes cero (as some of them are really small)'''\n",
    "annual_cost=1872.5\n",
    "for c in dfs.index.tolist():\n",
    "    dfs.set_value(c,\"DistributionCost2 (millions of MXN)\", dfs.loc[c,\"real state with electricity\"].astype(\"int64\")*annual_cost/(3*dfs[\"real state with electricity\"].astype('int64').sum())+dfs.loc[c,\"land area (km^2)\"].astype(\"int64\")*annual_cost*2/(dfs[\"land area (km^2)\"].astype('int64').sum()*3))\n",
    "\n",
    "    if str(dfs.loc[c,'county type'])==\"urban\":\n",
    "        dfs.set_value(c,'DistributionCost1 (millions of MXN)',dfs.loc[c,'land area (km^2)'].astype(\"float64\")*.5*.003+dfs.loc[c,\"real state with electricity\"].astype(\"int64\")*.005*.003 + dfs.loc[c,\"real state with electricity\"].astype(\"int64\")/80 * .035)\n",
    "    else:\n",
    "        dfs.set_value(c,'DistributionCost1 (millions of MXN)',dfs.loc[c,'land area (km^2)'].astype(\"float64\")*1*.005+dfs.loc[c,\"real state with electricity\"].astype(\"int64\")*.05*.005 + dfs.loc[c,\"real state with electricity\"].astype(\"int64\")/40 *.025)\n",
    "    dfs.set_value(c,\"diference of estimation (millions of MXN)\",abs(dfs.loc[c,'DistributionCost1 (millions of MXN)']-dfs.loc[c,\"DistributionCost2 (millions of MXN)\"]))\n",
    "dfs.to_csv(\"tables/CategorizedCounties.csv\",index=False)\n"
   ]
  },
  {
   "cell_type": "code",
   "execution_count": null,
   "metadata": {
    "collapsed": false
   },
   "outputs": [],
   "source": []
  },
  {
   "cell_type": "code",
   "execution_count": null,
   "metadata": {
    "collapsed": false
   },
   "outputs": [],
   "source": []
  },
  {
   "cell_type": "code",
   "execution_count": null,
   "metadata": {
    "collapsed": false
   },
   "outputs": [],
   "source": []
  },
  {
   "cell_type": "code",
   "execution_count": null,
   "metadata": {
    "collapsed": true
   },
   "outputs": [],
   "source": []
  }
 ],
 "metadata": {
  "anaconda-cloud": {},
  "hide_input": false,
  "kernelspec": {
   "display_name": "Python [conda root]",
   "language": "python",
   "name": "conda-root-py"
  },
  "language_info": {
   "codemirror_mode": {
    "name": "ipython",
    "version": 2
   },
   "file_extension": ".py",
   "mimetype": "text/x-python",
   "name": "python",
   "nbconvert_exporter": "python",
   "pygments_lexer": "ipython2",
   "version": "2.7.12"
  }
 },
 "nbformat": 4,
 "nbformat_minor": 0
}
