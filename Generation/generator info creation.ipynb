{
 "cells": [
  {
   "cell_type": "code",
   "execution_count": 1,
   "metadata": {
    "collapsed": false,
    "scrolled": true
   },
   "outputs": [],
   "source": [
    "import pandas  as pd\n",
    "import numpy as np\n",
    "df1=pd.read_csv('data/chile_generator_info.tab',sep='\\t')\n",
    "df2=pd.read_csv('../Main Tabs/generator_energy_sources.tab',sep='\\t',index_col=0)\n",
    "df3=pd.read_csv('data/PowerPlants.csv')\n",
    "df4=pd.read_csv('data/TechCostsSergio.tab',sep=\"\\t\",index_col=0)\n",
    "df5=pd.read_csv('data/generator_max_age.tab',sep=\"\\t\",index_col=0)\n",
    "df5=df5.fillna(value=0)\n",
    "df3=df3.fillna(value=0)\n",
    "df6=pd.read_csv('data/generator_info_booleans.csv',index_col=0)"
   ]
  },
  {
   "cell_type": "code",
   "execution_count": 2,
   "metadata": {
    "collapsed": false,
    "scrolled": true
   },
   "outputs": [
    {
     "name": "stderr",
     "output_type": "stream",
     "text": [
      "C:\\Users\\Aldo\\Anaconda2\\lib\\site-packages\\ipykernel\\__main__.py:6: SettingWithCopyWarning: \n",
      "A value is trying to be set on a copy of a slice from a DataFrame.\n",
      "Try using .loc[row_indexer,col_indexer] = value instead\n",
      "\n",
      "See the caveats in the documentation: http://pandas.pydata.org/pandas-docs/stable/indexing.html#indexing-view-versus-copy\n"
     ]
    }
   ],
   "source": [
    "#using PIIRCE's information to estimate the full load heat rate for every generation technology \n",
    "#using a weighted average. For more information, check the report.\n",
    "for i in df3['gen_tech'].unique():\n",
    "    dfa=df3[df3['gen_tech']==i]\n",
    "    t=dfa['capacity_mw'].sum()\n",
    "    dfa['weight']=dfa['capacity_mw']/t\n",
    "    df2.loc[i,'g_full_load_heat_rate']=((dfa['weight']*dfa['full_load_heat_rate']).sum())"
   ]
  },
  {
   "cell_type": "code",
   "execution_count": 3,
   "metadata": {
    "collapsed": false
   },
   "outputs": [],
   "source": [
    "for i in df2.index.tolist():\n",
    "    df2.loc[i,'g_variable_o_m']=df4[df4['investment_period']==2020]['g_variable_o_m'].to_dict()[i]"
   ]
  },
  {
   "cell_type": "code",
   "execution_count": 4,
   "metadata": {
    "collapsed": false
   },
   "outputs": [
    {
     "name": "stderr",
     "output_type": "stream",
     "text": [
      "C:\\Users\\Aldo\\Anaconda2\\lib\\site-packages\\ipykernel\\__main__.py:5: SettingWithCopyWarning: \n",
      "A value is trying to be set on a copy of a slice from a DataFrame.\n",
      "Try using .loc[row_indexer,col_indexer] = value instead\n",
      "\n",
      "See the caveats in the documentation: http://pandas.pydata.org/pandas-docs/stable/indexing.html#indexing-view-versus-copy\n"
     ]
    }
   ],
   "source": [
    "df2['g_min_build_capacity']=0\n",
    "for i in df2.index.tolist():\n",
    "    dfa=df3[df3['gen_tech']==i]\n",
    "    t=dfa['capacity_mw'].sum()\n",
    "    dfa['weight']=dfa['capacity_mw']/t\n",
    "    df2.loc[i,'g_full_load_heat_rate']=((dfa['weight']*dfa['full_load_heat_rate']).sum())\n",
    "    df2.loc[i,'g_variable_o_m']=df4[df4['investment_period']==2020]['g_variable_o_m'].to_dict()[i]\n",
    "    df2.loc[i,'g_scheduled_outage_rate']=df3[df3['gen_tech']==i]['scheduled_outage_rate'].tolist()[0]\n",
    "    df2.loc[i,'g_forced_outage_rate']=df3[df3['gen_tech']==i]['scheduled_outage_rate'].tolist()[0]\n",
    "    df2['g_min_build_capacity']=\".\"\n",
    "    if i=='nuclear_uranium':\n",
    "        df2.loc[i,'g_min_build_capacity']=sorted(df3[df3['gen_tech']=='nuclear_uranium']['capacity_mw'].tolist())[1]\n",
    "    df2.loc[i,'g_max_age']=df5.loc[i,'g_max_age']"
   ]
  },
  {
   "cell_type": "code",
   "execution_count": 5,
   "metadata": {
    "collapsed": false
   },
   "outputs": [],
   "source": [
    "#changing outage rates from percentage to fraction\n",
    "df2['g_forced_outage_rate']=df2['g_forced_outage_rate']/100\n",
    "df2['g_scheduled_outage_rate']=df2['g_scheduled_outage_rate']/100"
   ]
  },
  {
   "cell_type": "code",
   "execution_count": 6,
   "metadata": {
    "collapsed": false
   },
   "outputs": [],
   "source": [
    "#optional parameters that will be ignored\n",
    "ignored=[\"g_unit_size\",\"g_ccs_capture_efficiency\",\"g_ccs_energy_load\",\"g_storage_efficiency\",\"g_store_to_release_ratio\"]\n",
    "for i in ignored:\n",
    "    df2[i]=\".\"\n",
    "#boolean parameters that will be estimated\n",
    "boole=[\"g_is_variable\",\"g_is_baseload\",\"g_is_flexible_baseload\",\"g_is_cogen\",\"g_competes_for_space\"]"
   ]
  },
  {
   "cell_type": "code",
   "execution_count": 7,
   "metadata": {
    "collapsed": false,
    "scrolled": true
   },
   "outputs": [],
   "source": [
    "df2=pd.concat([df2,df6],axis=1)"
   ]
  },
  {
   "cell_type": "code",
   "execution_count": 8,
   "metadata": {
    "collapsed": true
   },
   "outputs": [],
   "source": [
    "df2.to_csv('data/generator_info.tab',sep=\"\\t\")\n",
    "df2.to_csv('../Main Tabs/generator_info',sep=\"\\t\")"
   ]
  },
  {
   "cell_type": "code",
   "execution_count": null,
   "metadata": {
    "collapsed": true
   },
   "outputs": [],
   "source": []
  }
 ],
 "metadata": {
  "anaconda-cloud": {},
  "hide_input": false,
  "kernelspec": {
   "display_name": "Python [conda root]",
   "language": "python",
   "name": "conda-root-py"
  },
  "language_info": {
   "codemirror_mode": {
    "name": "ipython",
    "version": 2
   },
   "file_extension": ".py",
   "mimetype": "text/x-python",
   "name": "python",
   "nbconvert_exporter": "python",
   "pygments_lexer": "ipython2",
   "version": "2.7.12"
  }
 },
 "nbformat": 4,
 "nbformat_minor": 1
}
