{
 "cells": [
  {
   "cell_type": "code",
   "execution_count": 27,
   "metadata": {
    "collapsed": false,
    "scrolled": true
   },
   "outputs": [],
   "source": [
    "import pandas as pd \n",
    "import numpy as np\n",
    "df1=pd.read_csv(\"data/PowerPlants.csv\",header=0,index_col=0)\n",
    "df2=pd.read_csv(\"data/TechCosts.csv\",header=0,index_col=0)\n",
    "def nearest_value(array,value):\n",
    "    idx = (np.abs(array-value)).argmin()\n",
    "    return array[idx]\n",
    "def lis(x):\n",
    "    if isinstance(x,list): return np.asarray(x)\n",
    "    else: return np.asarray([x])\n",
    "#selecting only the generating plants of interest. See report for more details.\n",
    "df1=df1.loc[df1['being_built'].isin([a for a in list(set(df1['being_built'].tolist())) if a  not in ['generic_project','optimization']])]"
   ]
  },
  {
   "cell_type": "code",
   "execution_count": 40,
   "metadata": {
    "collapsed": false
   },
   "outputs": [],
   "source": [
    "for i in df1.index.tolist():\n",
    "    #setting auxiliary dataframe for plant gen_tech info\n",
    "    df3=df2.loc[df1.loc[i,'gen_tech'],:]\n",
    "    #iterating over the costs\n",
    "    for name in ['fixed_o_m','variable_o_m','overnight_cost']:\n",
    "        #selecting the costs according to the capacity and technology of the plant\n",
    "        #try and except due to error with length of dataframe']\n",
    "        try: a=df3.loc[df3['capacity_mw']==nearest_value(lis(df2.loc[df1.loc[i,'gen_tech'],'capacity_mw'].tolist()),df1.loc[i,'capacity_limit_mw'].astype('float'))]\n",
    "        except KeyError: a=df3\n",
    "        df1.loc[i,name]=float(a[name])"
   ]
  },
  {
   "cell_type": "code",
   "execution_count": 41,
   "metadata": {
    "collapsed": true
   },
   "outputs": [],
   "source": [
    "#export data\n",
    "df1.to_csv('data/PowerPlantsWithCosts.csv')"
   ]
  },
  {
   "cell_type": "code",
   "execution_count": null,
   "metadata": {
    "collapsed": false
   },
   "outputs": [],
   "source": []
  },
  {
   "cell_type": "code",
   "execution_count": null,
   "metadata": {
    "collapsed": false
   },
   "outputs": [],
   "source": []
  },
  {
   "cell_type": "code",
   "execution_count": null,
   "metadata": {
    "collapsed": true
   },
   "outputs": [],
   "source": []
  }
 ],
 "metadata": {
  "anaconda-cloud": {},
  "hide_input": false,
  "kernelspec": {
   "display_name": "Python [Root]",
   "language": "python",
   "name": "Python [Root]"
  },
  "language_info": {
   "codemirror_mode": {
    "name": "ipython",
    "version": 2
   },
   "file_extension": ".py",
   "mimetype": "text/x-python",
   "name": "python",
   "nbconvert_exporter": "python",
   "pygments_lexer": "ipython2",
   "version": "2.7.12"
  }
 },
 "nbformat": 4,
 "nbformat_minor": 0
}
