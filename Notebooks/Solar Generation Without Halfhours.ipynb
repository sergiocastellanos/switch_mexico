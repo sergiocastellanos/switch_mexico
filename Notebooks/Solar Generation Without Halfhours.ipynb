{
 "cells": [
  {
   "cell_type": "code",
   "execution_count": 1,
   "metadata": {
    "collapsed": true
   },
   "outputs": [],
   "source": [
    "import pandas as pd\n",
    "import numpy as np"
   ]
  },
  {
   "cell_type": "code",
   "execution_count": 8,
   "metadata": {
    "collapsed": false
   },
   "outputs": [],
   "source": [
    "lat = []\n",
    "lon = []\n",
    "\n",
    "# This is the sum of the solar generation over a year.\n",
    "solar_gen = []\n",
    "\n",
    "# Solar gen for half hours.\n",
    "solar_gen_hh = []\n",
    "\n",
    "for i in range(1, 525):\n",
    "    _csv = pd.read_csv('2013_1MW_Normal/{file}.csv'.format(file = i))\n",
    "    lat.append(_csv.iloc[1]['latitude'])\n",
    "    lon.append(_csv.iloc[1]['longitude'])\n",
    "    solar_gen.append(sum(_csv['generation']))\n",
    "    hh = 0\n",
    "    \n",
    "    for i, row in _csv.iterrows():\n",
    "        if (int(row['Minute']) == 30):\n",
    "            hh += row['generation']\n",
    "    solar_gen_hh.append(hh)"
   ]
  },
  {
   "cell_type": "code",
   "execution_count": 25,
   "metadata": {
    "collapsed": false
   },
   "outputs": [],
   "source": [
    "solar_gen_wo_hh = [solar_gen[i] - solar_gen_hh[i] for i in range(0, 524)]\n",
    "\n",
    "df = pd.DataFrame(index = [i for i in range(1, 525)], columns = ['gen'])\n",
    "df['gen'] = solar_gen_wo_hh\n",
    "df.to_csv(\"solar_gen_wo_hh.csv\")"
   ]
  },
  {
   "cell_type": "code",
   "execution_count": null,
   "metadata": {
    "collapsed": true
   },
   "outputs": [],
   "source": []
  }
 ],
 "metadata": {
  "kernelspec": {
   "display_name": "Python 3",
   "language": "python",
   "name": "python3"
  },
  "language_info": {
   "codemirror_mode": {
    "name": "ipython",
    "version": 3
   },
   "file_extension": ".py",
   "mimetype": "text/x-python",
   "name": "python",
   "nbconvert_exporter": "python",
   "pygments_lexer": "ipython3",
   "version": "3.5.2"
  }
 },
 "nbformat": 4,
 "nbformat_minor": 2
}
