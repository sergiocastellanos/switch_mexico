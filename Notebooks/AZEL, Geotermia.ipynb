{
 "cells": [
  {
   "cell_type": "code",
   "execution_count": 31,
   "metadata": {
    "collapsed": true
   },
   "outputs": [],
   "source": [
    "#!\n",
    "#\n",
    "# Data about potential new geothermal energy plants was taken from AZEL (https://dgel.energia.gob.mx/azel/)\n",
    "# The different scenarios were taken from AZEL's data, while specific loadzones were added by this script.\n",
    "#\n",
    "\n",
    "import pandas as pd\n",
    "import numpy as np\n",
    "import math\n",
    "from geopy.distance import great_circle"
   ]
  },
  {
   "cell_type": "code",
   "execution_count": 32,
   "metadata": {
    "collapsed": true
   },
   "outputs": [],
   "source": [
    "mexico = pd.read_csv(\"mapa_mexico_w_lz.csv\")\n",
    "del mexico['Unnamed: 0']"
   ]
  },
  {
   "cell_type": "code",
   "execution_count": 36,
   "metadata": {
    "collapsed": false
   },
   "outputs": [
    {
     "name": "stdout",
     "output_type": "stream",
     "text": [
      "1\n",
      "2\n",
      "3\n",
      "4\n"
     ]
    }
   ],
   "source": [
    "scenarios = [1, 2, 3, 4]\n",
    "\n",
    "for s in scenarios:\n",
    "    print(s)\n",
    "    scenario = pd.read_csv(\"escenario{0}.csv\".format(s))\n",
    "\n",
    "    lz = []\n",
    "\n",
    "    for i, row in scenario.iterrows():\n",
    "        l = -1\n",
    "        mindist = 10000000.0\n",
    "    \n",
    "        y = float(row['Y'])\n",
    "    \n",
    "        _df = mexico.loc[mexico['LAT'] >= y - 0.5]\n",
    "        _df = _df.loc[_df['LAT'] <= y + 0.5]\n",
    "    \n",
    "        for j, r in _df.iterrows():\n",
    "            if great_circle((row['Y'], row['X']),(r['LAT'], r['LON'])).kilometers < mindist:\n",
    "                mindist = great_circle((row['Y'], row['X']),(r['LAT'], r['LON'])).kilometers\n",
    "                l = r['lz']\n",
    "        lz.append(l)\n",
    "    \n",
    "    scenario['lz'] = lz\n",
    "\n",
    "    gen_min = []; gen_med = []; gen_max = []; cap_min = []; cap_med = []; cap_max = [];\n",
    "    lz = []; nombre = []\n",
    "\n",
    "    gen_min = [i for i in scenario['GEN_MIN']]\n",
    "    gen_med = [i for i in scenario['GEN_MED']]\n",
    "    gen_max = [i for i in scenario['GEN_MAX']]\n",
    "    cap_min = [i for i in scenario['CAP_MIN']]\n",
    "    cap_med = [i for i in scenario['CAP_MED']]\n",
    "    cap_max = [i for i in scenario['CAP_MAX']]\n",
    "    lz = [i for i in scenario['lz']]\n",
    "    nombre = ['geotermia_esc{0}_'.format(s) + str(i) for i in range(len(lz))]\n",
    "\n",
    "    columns = ['name', 'cap_min', 'gen_min', 'cap_med', 'gen_med', 'cap_max', 'gen_max', 'lz']\n",
    "    df = pd.DataFrame(index = [i for i in range(len(lz))], columns=columns)\n",
    "    df['name'] = nombre\n",
    "    df['cap_min'] = cap_min\n",
    "    df['gen_min'] = gen_min\n",
    "    df['cap_med'] = cap_med\n",
    "    df['gen_med'] = gen_med\n",
    "    df['cap_max'] = cap_max\n",
    "    df['gen_max'] = gen_max\n",
    "    df['lz'] = lz\n",
    "\n",
    "    df.to_csv(\"geo_escenario{0}.csv\".format(s))"
   ]
  }
 ],
 "metadata": {
  "kernelspec": {
   "display_name": "Python 3",
   "language": "python",
   "name": "python3"
  },
  "language_info": {
   "codemirror_mode": {
    "name": "ipython",
    "version": 3
   },
   "file_extension": ".py",
   "mimetype": "text/x-python",
   "name": "python",
   "nbconvert_exporter": "python",
   "pygments_lexer": "ipython3",
   "version": "3.5.2"
  }
 },
 "nbformat": 4,
 "nbformat_minor": 2
}
