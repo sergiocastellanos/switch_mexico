{
 "cells": [
  {
   "cell_type": "code",
   "execution_count": 13,
   "metadata": {
    "collapsed": true
   },
   "outputs": [],
   "source": [
    "import pandas as pd\n",
    "import numpy as np\n",
    "from geopy.distance import great_circle\n",
    "from sklearn.cluster import DBSCAN\n",
    "from scipy.spatial.distance import pdist, squareform\n",
    "%matplotlib inline\n",
    "import matplotlib.pyplot as plt"
   ]
  },
  {
   "cell_type": "code",
   "execution_count": 112,
   "metadata": {
    "collapsed": false
   },
   "outputs": [],
   "source": [
    "distances = pd.read_csv(\"distancias_representativas_solar.csv\")\n",
    "substations = pd.read_csv(\"subestaciones_w_lz.csv\")\n",
    "del substations['Unnamed: 0']\n",
    "del substations['id']\n",
    "substations = substations.sort_values(by = ['lz'], ascending = [True])"
   ]
  },
  {
   "cell_type": "markdown",
   "metadata": {},
   "source": [
    "### Example: Number of subclusters in loadzone 1 and its centroids."
   ]
  },
  {
   "cell_type": "code",
   "execution_count": 118,
   "metadata": {
    "collapsed": false
   },
   "outputs": [],
   "source": [
    "# First, we get all the existing substations in the loadzone.\n",
    "X = []\n",
    "Y = []\n",
    "sub_lz_1 = []\n",
    "\n",
    "for i, row in substations.iterrows():\n",
    "    if (row['lz'] == 1.0):\n",
    "        sub_lz_1.append((row['X'], row['Y']))\n",
    "        X.append(row['X'])\n",
    "        Y.append(row['Y'])\n",
    "        \n",
    "df = pd.DataFrame (index = [i for i in range(0, len(X))], columns = ['X', 'Y'])\n",
    "df['X'] = X\n",
    "df['Y'] = Y"
   ]
  },
  {
   "cell_type": "code",
   "execution_count": 119,
   "metadata": {
    "collapsed": false
   },
   "outputs": [
    {
     "data": {
      "image/png": "[encoded data removed]",
      "text/plain": [
       "<matplotlib.figure.Figure at 0x7fcea5e14048>"
      ]
     },
     "metadata": {},
     "output_type": "display_data"
    }
   ],
   "source": [
    "# We can see the location of each substation as a point in the plane. Thus, if we set the known representative \n",
    "# distance of each particular loadzone as a radius around each of the points (i.e., each of the substations),\n",
    "# we will have several circles inside a loadzone, each of which has radius r, being r the representative distance\n",
    "# of the loadzone (distances.iloc[0]['km']).\n",
    "\n",
    "# Using DBSCAN clustering, we get the subclusters inside a loadzone. Note that a single substation can itself be a\n",
    "# subcluster; it wouldn't be beneficial to ignore this substations since very different energy-generation\n",
    "# profiles can exists among the same loadzone and we want to take them into account.\n",
    "# https://en.wikipedia.org/wiki/DBSCAN\n",
    "\n",
    "distance_matrix = squareform(pdist(sub_lz_1, (lambda u, v: great_circle(u, v).kilometers)))\n",
    "db = DBSCAN(eps = 2 * distances.iloc[0]['km'] + 1, min_samples = 1, metric = 'precomputed')\n",
    "y_db = db.fit_predict(distance_matrix)\n",
    "cluster = y_db\n",
    "\n",
    "df['cluster'] = cluster\n",
    "df = df.drop(df[df.cluster == -1].index)\n",
    "\n",
    "plt.scatter(df['X'], df['Y'], c = df['cluster'])\n",
    "plt.show()"
   ]
  },
  {
   "cell_type": "code",
   "execution_count": 103,
   "metadata": {
    "collapsed": false
   },
   "outputs": [
    {
     "data": {
      "text/plain": [
       "[((-113.353956419933, 31.354298903843304), 0),\n",
       " ((-112.68015268554301, 30.813313964394197), 1),\n",
       " ((-110.80991539713868, 30.862825520562001), 2),\n",
       " ((-110.78022052102351, 29.041828301270424), 3),\n",
       " ((-111.74395422766351, 28.959341861253698), 4),\n",
       " ((-111.35198186294599, 28.772507541671299), 5),\n",
       " ((-111.021558877812, 28.203070149368898), 6)]"
      ]
     },
     "execution_count": 103,
     "metadata": {},
     "output_type": "execute_result"
    }
   ],
   "source": [
    "centroids = []\n",
    "\n",
    "i = 0\n",
    "while True:\n",
    "    _df = df.loc[df['cluster'] == i]\n",
    "    \n",
    "    if _df.empty:\n",
    "        break\n",
    "    centroids.append((((sum(_df['X'])/len(_df.index)), (sum(_df['Y']))/len(_df.index)), i))\n",
    "    i = i + 1\n",
    "    \n",
    "centroids"
   ]
  },
  {
   "cell_type": "markdown",
   "metadata": {},
   "source": [
    "### Computing the subclusters for every loadzone.\n",
    "And their respective centroids."
   ]
  },
  {
   "cell_type": "code",
   "execution_count": 124,
   "metadata": {
    "collapsed": false
   },
   "outputs": [],
   "source": [
    "centroids = []\n",
    "\n",
    "for s in range(1, 54):\n",
    "    X = []\n",
    "    Y = []\n",
    "    sub_lz = []\n",
    "\n",
    "    for i, row in substations.iterrows():\n",
    "        if (row['lz'] == s):\n",
    "            sub_lz.append((row['X'], row['Y']))\n",
    "            X.append(row['X'])\n",
    "            Y.append(row['Y'])\n",
    "        \n",
    "    df = pd.DataFrame (index = [i for i in range(0, len(X))], columns = ['X', 'Y'])\n",
    "    df['X'] = X\n",
    "    df['Y'] = Y\n",
    "    \n",
    "    distance_matrix = squareform(pdist(sub_lz, (lambda u, v: great_circle(u, v).kilometers)))\n",
    "    db = DBSCAN(eps = 2 * distances.iloc[s-1]['km'] + 1, min_samples = 1, metric = 'precomputed')\n",
    "    y_db = db.fit_predict(distance_matrix)\n",
    "    cluster = y_db\n",
    "\n",
    "    df['cluster'] = cluster\n",
    "    df = df.drop(df[df.cluster == -1].index)\n",
    "\n",
    "    i = 0\n",
    "    while True:\n",
    "        _df = df.loc[df['cluster'] == i]\n",
    "    \n",
    "        if _df.empty:\n",
    "            break\n",
    "        \n",
    "        centroids.append(((sum(_df['X'])/len(_df.index)), (sum(_df['Y']))/len(_df.index), s, i))\n",
    "        \n",
    "        i = i + 1"
   ]
  },
  {
   "cell_type": "code",
   "execution_count": 125,
   "metadata": {
    "collapsed": false
   },
   "outputs": [
    {
     "data": {
      "text/plain": [
       "[(-111.021558877812, 28.203070149368898, 1, 0),\n",
       " (-112.68015268554301, 30.813313964394197, 1, 1),\n",
       " (-110.78022052102349, 29.041828301270428, 1, 2),\n",
       " (-111.35198186294599, 28.772507541671299, 1, 3),\n",
       " (-111.74395422766351, 28.959341861253698, 1, 4),\n",
       " (-110.80991539713868, 30.862825520562001, 1, 5),\n",
       " (-113.353956419933, 31.354298903843304, 1, 6),\n",
       " (-110.3898678768215, 30.637868845212147, 2, 0),\n",
       " (-109.85536010675202, 30.442361936117599, 2, 1),\n",
       " (-110.10479706611801, 30.481599778859248, 2, 2),\n",
       " (-109.3597256290515, 30.151567235599849, 2, 3),\n",
       " (-109.13620419793199, 29.829031531804301, 2, 4),\n",
       " (-109.71714395610768, 27.485027006351569, 3, 0),\n",
       " (-108.915922207842, 28.197360299746901, 3, 1),\n",
       " (-107.77563896502799, 28.471088201195503, 3, 2),\n",
       " (-109.23986631091449, 27.095386407727098, 3, 3),\n",
       " (-110.367191789606, 28.687288020593599, 3, 4),\n",
       " (-108.35225946849701, 28.328609572211999, 3, 5),\n",
       " (-108.39761164292699, 25.848515021398001, 4, 0),\n",
       " (-109.15564084411601, 26.638883984521499, 4, 1),\n",
       " (-107.976484308933, 25.316816100197201, 4, 2),\n",
       " (-108.88352779753551, 25.816474068513855, 4, 3),\n",
       " (-106.98764493431, 24.429814462424023, 5, 0),\n",
       " (-107.40634268752599, 25.182038770891701, 5, 1),\n",
       " (-105.963171708343, 23.005215590470801, 6, 0),\n",
       " (-107.19365315297932, 31.570449390178435, 7, 0),\n",
       " (-106.55440345625, 31.563052813323697, 7, 1),\n",
       " (-107.50247986457501, 31.741534873027302, 7, 2),\n",
       " (-106.82771722371299, 30.208052508392697, 8, 0),\n",
       " (-106.434510378309, 29.4743130625559, 8, 1),\n",
       " (-107.88577996007299, 28.9540765808032, 8, 2),\n",
       " (-108.09310418603849, 30.36133032111205, 8, 3),\n",
       " (-106.28225664986451, 28.664481045645648, 9, 0),\n",
       " (-104.86662091943899, 28.322906444718495, 9, 1),\n",
       " (-106.01338304431499, 26.933849803787197, 9, 2),\n",
       " (-105.26831160724799, 27.4869874968267, 9, 3),\n",
       " (-104.09563395412701, 28.025923127374398, 9, 4),\n",
       " (-103.668027738071, 27.928653930280799, 9, 5),\n",
       " (-104.73852802201867, 23.916015206885799, 10, 0),\n",
       " (-103.5306754383688, 25.486494957127796, 11, 0),\n",
       " (-101.13455260447199, 28.829291231438052, 12, 0),\n",
       " (-101.84746187880501, 27.779719871548298, 12, 1),\n",
       " (-99.82123346124456, 27.566705113909805, 13, 0),\n",
       " (-100.585699597337, 27.308190784935107, 13, 1),\n",
       " (-99.511824895650591, 25.970486190613297, 14, 0),\n",
       " (-99.783937942231688, 25.807213811579601, 14, 1),\n",
       " (-99.055063710318208, 26.060733479558099, 14, 2),\n",
       " (-98.708443520030428, 25.927989719897525, 14, 3),\n",
       " (-98.507598176125413, 26.086921301952401, 14, 4),\n",
       " (-97.499646546844531, 25.814334363023377, 15, 0),\n",
       " (-100.45848404852575, 25.889596899897029, 16, 0),\n",
       " (-101.61098268356199, 26.8163409681076, 16, 1),\n",
       " (-101.0691861711725, 25.324246980558193, 16, 2),\n",
       " (-101.441721889706, 24.7113111212212, 17, 0),\n",
       " (-101.9235887430265, 25.081788925187553, 17, 1),\n",
       " (-102.95535071131201, 25.498235360556002, 17, 2),\n",
       " (-98.844500043320906, 22.317671040458798, 18, 0),\n",
       " (-98.069463776719502, 22.511936875803997, 19, 0),\n",
       " (-98.951401597334836, 23.77222029572555, 19, 1),\n",
       " (-98.901190261358579, 21.383348541014801, 20, 0),\n",
       " (-98.024111602289295, 22.167001602689801, 20, 1),\n",
       " (-99.404923341636689, 25.263606688770299, 21, 0),\n",
       " (-104.47140911369301, 21.308672529604106, 22, 0),\n",
       " (-104.83098706810399, 21.474567482984199, 22, 1),\n",
       " (-105.18327628019549, 20.795460608998049, 22, 2),\n",
       " (-103.41475459853879, 20.768558730533289, 23, 0),\n",
       " (-102.17626514342319, 20.320210240056262, 23, 1),\n",
       " (-102.56337834659499, 20.191612302545352, 23, 2),\n",
       " (-102.98288596007399, 20.297913955297751, 23, 3),\n",
       " (-103.59190087385099, 19.934515233635899, 23, 4),\n",
       " (-103.95795771032302, 19.541180201266901, 23, 5),\n",
       " (-102.44092747563359, 21.672071357866287, 24, 0),\n",
       " (-101.36964432677225, 21.850678417283589, 24, 1),\n",
       " (-103.35704139912301, 22.666357848682999, 24, 2),\n",
       " (-101.91872958148001, 23.530472050427399, 24, 3),\n",
       " (-101.41121715333334, 22.328934400827603, 25, 0),\n",
       " (-101.54457414243133, 20.366696385720729, 26, 0),\n",
       " (-101.91630000070751, 20.61702557485555, 26, 1),\n",
       " (-101.20524269446301, 20.6381989032676, 26, 2),\n",
       " (-100.929080346593, 20.402797435485105, 26, 3),\n",
       " (-104.3839442058635, 19.373181301695851, 27, 0),\n",
       " (-102.41112461815075, 18.1693541098699, 27, 1),\n",
       " (-100.239079407049, 19.058113711247398, 28, 0),\n",
       " (-99.987658625623723, 17.006246129985399, 29, 0),\n",
       " (-101.51865861418599, 17.869008139622501, 29, 1),\n",
       " (-99.615487008633735, 19.805277601923233, 30, 0),\n",
       " (-100.77358717711901, 20.524198064990397, 30, 1),\n",
       " (-101.04893966473, 20.5848623259897, 30, 2),\n",
       " (-99.335076446430136, 19.410107856571841, 31, 0),\n",
       " (-99.678656108732952, 17.807261911615299, 31, 1),\n",
       " (-99.959272688019723, 19.420318925699476, 31, 2),\n",
       " (-98.551330630040042, 19.260011339235948, 31, 3),\n",
       " (-98.139921619137809, 18.950913330362699, 31, 4),\n",
       " (-98.128583575530243, 19.558248327875674, 32, 0),\n",
       " (-98.634476283162073, 20.046133684044069, 32, 1),\n",
       " (-97.409967573547377, 20.132950229173833, 32, 2),\n",
       " (-97.76090701854281, 21.172045533935894, 32, 3),\n",
       " (-97.783583105757899, 19.458732136694699, 32, 4),\n",
       " (-96.895976263338795, 19.477057558399601, 32, 5),\n",
       " (-96.196257000701777, 18.635820575629882, 33, 0),\n",
       " (-96.617384334696297, 18.7240346189025, 33, 1),\n",
       " (-97.048229991782904, 18.819100905442248, 33, 2),\n",
       " (-97.420765710316431, 18.555204624867351, 34, 0),\n",
       " (-97.926118511109792, 18.699488870594301, 34, 1),\n",
       " (-99.647517317397387, 16.851280491951151, 35, 0),\n",
       " (-96.280482467500704, 17.912167303079201, 36, 0),\n",
       " (-96.753440857986803, 16.851703014672651, 36, 1),\n",
       " (-94.95231164490275, 16.702876604551953, 36, 2),\n",
       " (-94.861607296042408, 18.183212032477602, 37, 0),\n",
       " (-94.434001079986501, 18.030799951518155, 37, 1),\n",
       " (-93.564211163236365, 17.986062746901499, 37, 2),\n",
       " (-91.648081793561587, 17.859758382750698, 38, 0),\n",
       " (-92.72843537730887, 18.002241247452226, 38, 1),\n",
       " (-93.371464421908144, 18.298557752761454, 38, 2),\n",
       " (-93.2678023089249, 16.836295260501803, 39, 0),\n",
       " (-92.31540664589123, 14.9733638490499, 39, 1),\n",
       " (-94.991184937271484, 16.443130176362132, 40, 0),\n",
       " (-90.78153131784218, 19.021177330314849, 41, 0),\n",
       " (-89.794311663728209, 20.857366729301049, 42, 0),\n",
       " (-88.632162193955054, 21.023794465440201, 42, 1),\n",
       " (-89.174537177956708, 20.589594129205757, 42, 2),\n",
       " (-88.347091383251097, 21.241507124752601, 42, 3),\n",
       " (-90.152539851042775, 20.532954660035632, 42, 4),\n",
       " (-87.176223877999732, 20.809039348140097, 43, 0),\n",
       " (-88.113851629038749, 20.917862508812199, 43, 1),\n",
       " (-87.900048521010802, 20.848470510349198, 43, 2),\n",
       " (-88.29526032675949, 18.960104639461601, 44, 0),\n",
       " (-89.396670277206496, 18.653456001118101, 44, 1),\n",
       " (-88.742303188999713, 19.651045458362802, 44, 2),\n",
       " (-86.902300683546997, 20.539366387715603, 45, 0),\n",
       " (-116.98536981537301, 32.350362032352102, 46, 0),\n",
       " (-116.69058068157749, 32.324328797645499, 46, 1),\n",
       " (-116.82663720486799, 32.361307983097397, 46, 2),\n",
       " (-116.7464610393575, 31.949225035898429, 46, 3),\n",
       " (-116.53832695313349, 32.384551043960897, 46, 4),\n",
       " (-116.538326953134, 31.715993925290199, 46, 5),\n",
       " (-116.01029806512599, 32.306564984746103, 46, 6),\n",
       " (-116.43385497989263, 31.374327540702776, 47, 0),\n",
       " (-115.94550924451099, 30.478875312102105, 47, 1),\n",
       " (-114.89593035055701, 30.941208209651698, 47, 2),\n",
       " (-115.09839541497701, 31.271241495037849, 47, 3),\n",
       " (-115.67663563896099, 31.224189563361396, 47, 4),\n",
       " (-115.21271756528128, 32.52259588360824, 48, 0),\n",
       " (-115.19328091909701, 32.2154656699567, 48, 1),\n",
       " (-115.91635427523501, 32.4542950458533, 48, 2),\n",
       " (-115.67271819164399, 32.554679505715498, 48, 3),\n",
       " (-114.84342128777901, 32.335977630799306, 49, 0),\n",
       " (-114.40609674863133, 32.318637152136368, 49, 1),\n",
       " (-114.62637873871999, 32.223687478627397, 49, 2),\n",
       " (-114.730040851704, 32.341451642004102, 49, 3),\n",
       " (-111.3663505288275, 25.597169901655747, 50, 0),\n",
       " (-111.71220922718349, 25.329142396218106, 50, 1),\n",
       " (-110.38575498559501, 24.056639608738099, 51, 0),\n",
       " (-110.81421339862901, 24.237980149247601, 51, 1),\n",
       " (-111.268290974504, 24.455349748295895, 51, 2),\n",
       " (-109.76824481918101, 23.105717819400702, 52, 0),\n",
       " (-109.643254159934, 23.097447095817397, 52, 1),\n",
       " (-109.50240151242301, 23.244756133327051, 52, 2),\n",
       " (-109.87160488995501, 22.916694432022901, 52, 3),\n",
       " (-110.017369092327, 22.9911201122998, 52, 4),\n",
       " (-109.55425624806, 23.426933376365199, 52, 5),\n",
       " (-110.157832778249, 23.299399554891799, 52, 6),\n",
       " (-109.754993528057, 23.542589394408999, 52, 7),\n",
       " (-110.04917219102649, 23.759836830146, 52, 8),\n",
       " (-110.420208342519, 23.833824343828699, 52, 9),\n",
       " (-109.656933973733, 23.501278694122892, 52, 10),\n",
       " (-112.59342008698, 27.534903320492301, 53, 0),\n",
       " (-114.271033543374, 27.238397588190303, 53, 1),\n",
       " (-112.89577031170401, 28.425275482771397, 53, 2)]"
      ]
     },
     "execution_count": 125,
     "metadata": {},
     "output_type": "execute_result"
    }
   ],
   "source": [
    "centroids"
   ]
  },
  {
   "cell_type": "code",
   "execution_count": null,
   "metadata": {
    "collapsed": true
   },
   "outputs": [],
   "source": []
  }
 ],
 "metadata": {
  "kernelspec": {
   "display_name": "Python 3",
   "language": "python",
   "name": "python3"
  },
  "language_info": {
   "codemirror_mode": {
    "name": "ipython",
    "version": 3
   },
   "file_extension": ".py",
   "mimetype": "text/x-python",
   "name": "python",
   "nbconvert_exporter": "python",
   "pygments_lexer": "ipython3",
   "version": "3.5.2"
  }
 },
 "nbformat": 4,
 "nbformat_minor": 2
}
