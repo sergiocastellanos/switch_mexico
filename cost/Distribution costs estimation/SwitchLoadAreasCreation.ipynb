{
 "cells": [
  {
   "cell_type": "code",
   "execution_count": 1,
   "metadata": {
    "collapsed": false
   },
   "outputs": [],
   "source": [
    "import pandas as pd\n",
    "import numpy as np\n",
    "df1=pd.read_csv('tables/CategorizedCounties.csv',header=0)\n",
    "df2=pd.read_csv('tables/BalancingAreas.csv',index_col=0,header=0)\n",
    "df2=df2.drop('00-autoabasto_local')\n",
    "df3=pd.read_csv('../../Loads/High scenario/OrganizedTables/HourlyLoadPerNode.csv',header=0,index_col=range(4))\n",
    "df4=pd.read_csv('tables/CountiesLoadZones.csv')"
   ]
  },
  {
   "cell_type": "code",
   "execution_count": 2,
   "metadata": {
    "collapsed": false,
    "scrolled": true
   },
   "outputs": [
    {
     "data": {
      "text/plain": [
       "\"Now we must assign a distribution cost to each load zone\\nas a first aproach, we will asign the distribution cost of each load area\\nto the distribution cost of the county where the load area is located \\n(for example, the distribution cost of '20-tamazunchale' \\nis the distribution cost of the tamazunchale county).\\nThis is not representative as a load area distributes electricity to \\nmuch more counties that the county that gives name to it.\""
      ]
     },
     "execution_count": 2,
     "metadata": {},
     "output_type": "execute_result"
    }
   ],
   "source": [
    "df=pd.DataFrame(index=df2.index,columns=['lz_cost_multipliers','existing_local_td',\"local_td_annual_cost_per_mw\"])\n",
    "df['lz_cost_multipliers']=1\n",
    "\"\"\"we calculate the existing local td as the peak demand \n",
    "of that load area multiplied by a factor that compensates \n",
    "ditribution loses. \n",
    "This factor contemplates that 15% of the energy generated is lost \n",
    "during the transmission and distribution.\"\"\"\n",
    "for k in df.index.tolist():\n",
    "    df.loc[k,'existing_local_td']=df3[k].max()*100/85\n",
    "\"\"\"Now we must assign a distribution cost to each load zone\n",
    "as a first aproach, we will asign the distribution cost of each load area\n",
    "to the distribution cost of the county where the load area is located \n",
    "(for example, the distribution cost of '20-tamazunchale' \n",
    "is the distribution cost of the tamazunchale county).\n",
    "This is not representative as a load area distributes electricity to \n",
    "much more counties that the county that gives name to it.\"\"\"\n"
   ]
  },
  {
   "cell_type": "code",
   "execution_count": 3,
   "metadata": {
    "collapsed": false,
    "scrolled": false
   },
   "outputs": [],
   "source": [
    "for index in df1.index:\n",
    "    df1.loc[index,'load_zone']=df4.loc[index,'lz']"
   ]
  },
  {
   "cell_type": "code",
   "execution_count": 4,
   "metadata": {
    "collapsed": false
   },
   "outputs": [],
   "source": [
    "for k in df.index:\n",
    "    if k!='53-mulege': df.loc[k,\"local_td_annual_cost_per_mw\"]=df1[df1['load_zone']==int(k[0:2])]['DistributionCost2 (millions of MXN)'].sum()\n",
    "    df.loc['53-mulege','local_td_annual_cost_per_mw']=2\n",
    "    df.loc['47-ensenada','local_td_annual_cost_per_mw']=float(df1[df1['county']=='ensenada']['DistributionCost2 (millions of MXN)'])\n",
    "    df.loc[k,'local_td_annual_cost_per_mw']=df.loc[k,'local_td_annual_cost_per_mw']*(10000000/15.8675574)/df.loc[k,'existing_local_td']\n"
   ]
  },
  {
   "cell_type": "code",
   "execution_count": null,
   "metadata": {
    "collapsed": false
   },
   "outputs": [],
   "source": []
  },
  {
   "cell_type": "code",
   "execution_count": 5,
   "metadata": {
    "collapsed": false,
    "scrolled": true
   },
   "outputs": [],
   "source": [
    "df6=df.copy()\n",
    "df['load_zone_scenario_id']=1\n",
    "df5=(df3.loc[2016,:].sum()/(df3.loc[2016,:].sum().sum()))\n",
    "annual_cost=1872.5\n",
    "df5=df5*1000000*1872.5/15.8675574\n",
    "df6['local_td_annual_cost_per_mw']=df5.tolist()/df6['existing_local_td']\n",
    "df6['load_zone_scenario_id']=2\n",
    "df=pd.concat([df,df6])"
   ]
  },
  {
   "cell_type": "code",
   "execution_count": 6,
   "metadata": {
    "collapsed": true
   },
   "outputs": [],
   "source": [
    "df.to_csv('../../Main Tabs/csv/load_zones.csv')\n",
    "df.to_csv('../../Main Tabs/load_zones.tab',sep=\"\\t\")"
   ]
  },
  {
   "cell_type": "code",
   "execution_count": null,
   "metadata": {
    "collapsed": true
   },
   "outputs": [],
   "source": []
  }
 ],
 "metadata": {
  "anaconda-cloud": {},
  "hide_input": false,
  "kernelspec": {
   "display_name": "Python [conda root]",
   "language": "python",
   "name": "conda-root-py"
  },
  "language_info": {
   "codemirror_mode": {
    "name": "ipython",
    "version": 2
   },
   "file_extension": ".py",
   "mimetype": "text/x-python",
   "name": "python",
   "nbconvert_exporter": "python",
   "pygments_lexer": "ipython2",
   "version": "2.7.12"
  }
 },
 "nbformat": 4,
 "nbformat_minor": 0
}
