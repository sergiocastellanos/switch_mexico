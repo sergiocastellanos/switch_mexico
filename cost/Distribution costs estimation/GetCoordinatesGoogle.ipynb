{
 "cells": [
  {
   "cell_type": "code",
   "execution_count": 1,
   "metadata": {
    "collapsed": true
   },
   "outputs": [],
   "source": [
    "import sys\n",
    "import pandas as pd\n",
    "import numpy as np\n",
    "import geocoder \n",
    "df1=pd.read_csv(\"tables/Counties.csv\",skiprows=5,usecols=[2,3])\n",
    "df1=df1.dropna()\n",
    "#droping the \"Otros municipios\" county listed in INEGI's list.\n",
    "df1=df1.drop(198)\n",
    "#correct encoding problems in the table caused by special characters\n",
    "for index in df1.index.tolist():\n",
    "    df1.loc[index,'County']=df1.loc[index,'County'].replace(\"\\xf1\",\"n\")\n",
    "    df1.loc[index,'County']=df1.loc[index,'County'].replace(\"\\xfc\",\"u\")"
   ]
  },
  {
   "cell_type": "code",
   "execution_count": 2,
   "metadata": {
    "collapsed": true
   },
   "outputs": [],
   "source": [
    "for index,rows in df1.iterrows():\n",
    "    loc=\"{0}, {1}\".format(str(rows['County']),str(rows['State']))\n",
    "    g=geocoder.google(loc)\n",
    "    df1.loc[index,'lat']=g.lat\n",
    "    df1.loc[index,'lon']=g.lng"
   ]
  },
  {
   "cell_type": "code",
   "execution_count": null,
   "metadata": {
    "collapsed": false,
    "scrolled": true
   },
   "outputs": [],
   "source": []
  },
  {
   "cell_type": "code",
   "execution_count": 3,
   "metadata": {
    "collapsed": true
   },
   "outputs": [],
   "source": [
    "df2=df1[df1.isnull().any(axis=1)]"
   ]
  },
  {
   "cell_type": "code",
   "execution_count": 4,
   "metadata": {
    "collapsed": false
   },
   "outputs": [],
   "source": [
    "for index in df2.index.tolist():\n",
    "    loc=\"{0}, {1}\".format(str(rows['County']),str(rows['State']))\n",
    "    g=geocoder.google(loc)\n",
    "    df1.loc[index,'lat']=g.lat\n",
    "    df1.loc[index,'lon']=g.lng"
   ]
  },
  {
   "cell_type": "code",
   "execution_count": null,
   "metadata": {
    "collapsed": false
   },
   "outputs": [],
   "source": []
  },
  {
   "cell_type": "code",
   "execution_count": 13,
   "metadata": {
    "collapsed": true
   },
   "outputs": [],
   "source": [
    "df1['County']=df1['County'].str.replace(\"\\xfc\",\"u\")\n",
    "df1['County']=df1['County'].str.replace(\"\\xf1\",\"n\")\n",
    "df1.to_csv('tables/CountiesCoordinatesGoogle.csv',index=False)"
   ]
  },
  {
   "cell_type": "code",
   "execution_count": null,
   "metadata": {
    "collapsed": false
   },
   "outputs": [],
   "source": []
  },
  {
   "cell_type": "code",
   "execution_count": null,
   "metadata": {
    "collapsed": true
   },
   "outputs": [],
   "source": []
  }
 ],
 "metadata": {
  "anaconda-cloud": {},
  "hide_input": false,
  "kernelspec": {
   "display_name": "Python [conda root]",
   "language": "python",
   "name": "conda-root-py"
  },
  "language_info": {
   "codemirror_mode": {
    "name": "ipython",
    "version": 2
   },
   "file_extension": ".py",
   "mimetype": "text/x-python",
   "name": "python",
   "nbconvert_exporter": "python",
   "pygments_lexer": "ipython2",
   "version": "2.7.12"
  }
 },
 "nbformat": 4,
 "nbformat_minor": 1
}
