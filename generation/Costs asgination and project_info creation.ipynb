{
 "cells": [
  {
   "cell_type": "code",
   "execution_count": 5,
   "metadata": {
    "collapsed": false,
    "scrolled": true
   },
   "outputs": [],
   "source": [
    "import pandas as pd \n",
    "import numpy as np\n",
    "df1=pd.read_csv(\"data/PowerPlants.csv\",header=0,index_col=0)\n",
    "df2=pd.read_csv(\"data/TechCostsSergio.tab\",sep=\"\\t\",header=0,index_col=0)\n",
    "df2=df2[df2['investment_period']==2020]\n",
    "df2=df2.drop(['investment_period','source'],axis=1)\n",
    "#selecting only the generating plants of interest. See report for more details.\n",
    "df1=df1.loc[df1['being_built'].isin([a for a in list(set(df1['being_built'].tolist())) if a  not in ['generic_project','optimization']])]"
   ]
  },
  {
   "cell_type": "code",
   "execution_count": 6,
   "metadata": {
    "collapsed": false
   },
   "outputs": [],
   "source": [
    "for index in df1.index.tolist():\n",
    "    for name in ['fixed_o_m','variable_o_m','overnight_cost']:\n",
    "        df1.loc[index,name]=df2.loc[df1.loc[index,'gen_tech'],\"g_\"+name]"
   ]
  },
  {
   "cell_type": "code",
   "execution_count": 7,
   "metadata": {
    "collapsed": false,
    "scrolled": true
   },
   "outputs": [],
   "source": [
    "#adjusting outage rates from percentages to fractions\n",
    "df1['scheduled_outage_rate']=df1['scheduled_outage_rate']/100\n",
    "df1['forced_outage_rate']=df1['forced_outage_rate']/100\n",
    "#adding an arbitrary connection cost to the electrical grid based on SWITCH Chile value:\n",
    "df1['connect_cost_per_mw']=99048.565\n",
    "#adding a value for plants that are units of bigger plants\n",
    "names=df1.index.tolist()\n",
    "temp=pd.DataFrame(columns=df1.columns)\n",
    "for index,row in df1.iterrows():\n",
    "    if any(x[0]=='u' and len(x)==2 for x in index.split(\"_\")):\n",
    "        #print index\n",
    "        #print x\n",
    "        #print \"unidad {0} de {1}\".format(x[1],index.replace(\"_\"+x,\"\"))\n",
    "        temp=temp.append(row)\n",
    "        temp.loc[index,'real_name']=index.replace(index[index.index('_u'):index.index('_u')+3],\"\")\n",
    "    else: \n",
    "        temp=temp.append(row)\n",
    "        temp.loc[index,'real_name']=index\n"
   ]
  },
  {
   "cell_type": "code",
   "execution_count": 8,
   "metadata": {
    "collapsed": true
   },
   "outputs": [],
   "source": [
    "temp.index.name='project_name'\n",
    "#export data\n",
    "temp.to_csv('data/PowerPlantsWithCosts.csv')"
   ]
  },
  {
   "cell_type": "code",
   "execution_count": null,
   "metadata": {
    "collapsed": false
   },
   "outputs": [],
   "source": [
    "'''\n",
    "#selecting columns that we need for project_info:\n",
    "cols=[\"proj_gen_tech\",\"proj_load_zone\",\"proj_variable_o_m\",\"proj_full_load_heat_rate\",\"proj_forced_outage_rate\",\"proj_scheduled_outage_rate\",\"proj_dbid\",\"proj_capacity_limit_mw\"]\n",
    "df3=pd.DataFrame(index=df1.index.tolist())\n",
    "for name in cols:\n",
    "    for index in df3.index.tolist():\n",
    "        df3.loc[index,name]=df1.loc[index,name[5:]]\n",
    "df3.index.name='PROJECT'\n",
    "df3\n",
    "df3.to_csv('../Main Tabs/project_info_trial.tab',sep=\"\\t\")\n",
    "'''"
   ]
  },
  {
   "cell_type": "code",
   "execution_count": null,
   "metadata": {
    "collapsed": false
   },
   "outputs": [],
   "source": []
  },
  {
   "cell_type": "code",
   "execution_count": null,
   "metadata": {
    "collapsed": true
   },
   "outputs": [],
   "source": []
  }
 ],
 "metadata": {
  "anaconda-cloud": {},
  "hide_input": false,
  "kernelspec": {
   "display_name": "Python [conda root]",
   "language": "python",
   "name": "conda-root-py"
  },
  "language_info": {
   "codemirror_mode": {
    "name": "ipython",
    "version": 2
   },
   "file_extension": ".py",
   "mimetype": "text/x-python",
   "name": "python",
   "nbconvert_exporter": "python",
   "pygments_lexer": "ipython2",
   "version": "2.7.12"
  }
 },
 "nbformat": 4,
 "nbformat_minor": 0
}
